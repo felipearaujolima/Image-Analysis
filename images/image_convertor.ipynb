{
 "cells": [
  {
   "cell_type": "markdown",
   "id": "69224b7b",
   "metadata": {},
   "source": [
    "# Context"
   ]
  },
  {
   "cell_type": "markdown",
   "id": "4466906c",
   "metadata": {},
   "source": [
    "Image Analysis is part of a big picture, involving other importants subjects, such as:\n",
    "* Image Processing \n",
    "* Image Analysis \n",
    "* Computer Vision\n",
    "\n",
    "Sometimes, a distinction is made by defining **image processing** as a discipline in which both the input and output of a process are images. Although this is a limiting and somewhat artificial boundary, it's useful for capturing the essence. \n",
    "\n",
    "**Computer Vision**, on the other hand, has the ultimate goal to use computers to emulate human vision, including learning and being able to make inferences and take actions based on visual inputs.\n",
    "\n",
    "For last, **image analysis** is in between image processing and computer vision."
   ]
  },
  {
   "cell_type": "markdown",
   "id": "88a208ef",
   "metadata": {},
   "source": [
    "One useful paradigm is to consider three types of computerized processes in this continuum:\n",
    "\n",
    "**Low-Process** = involve primitive operations such as image preprocessing to reduce noise, contrast enhancement, and image sharpening. Both its input and outputs are images.  \n",
    "  \n",
    "**Mid-Process** = Involves tasks such as segmentation (partitioning an image into regions or objects), description of those objects to reduce them to a form suitable for computer processing, and classification (recognition) of individual objects. Its inputs generally are images, but its outputs are attributes extracted from those images (e.g., edges, contours, and the identity of individual objects).  \n",
    "  \n",
    "**High-Process** = Involves \"making sense\" of an ensemble of recognized objects, as in image analysis, and, at the far end of the continuum, performing the cognitive functions normally associated with human vision."
   ]
  },
  {
   "cell_type": "code",
   "execution_count": null,
   "id": "35c68ee0",
   "metadata": {},
   "outputs": [],
   "source": []
  },
  {
   "cell_type": "code",
   "execution_count": null,
   "id": "24a2dbaa",
   "metadata": {},
   "outputs": [],
   "source": []
  },
  {
   "cell_type": "code",
   "execution_count": 1,
   "id": "b938c112",
   "metadata": {
    "scrolled": true
   },
   "outputs": [
    {
     "ename": "ModuleNotFoundError",
     "evalue": "No module named 'matplotlib.pytplot'",
     "output_type": "error",
     "traceback": [
      "\u001b[1;31m---------------------------------------------------------------------------\u001b[0m",
      "\u001b[1;31mModuleNotFoundError\u001b[0m                       Traceback (most recent call last)",
      "Cell \u001b[1;32mIn[1], line 3\u001b[0m\n\u001b[0;32m      1\u001b[0m \u001b[38;5;28;01mimport\u001b[39;00m \u001b[38;5;21;01mpandas\u001b[39;00m \u001b[38;5;28;01mas\u001b[39;00m \u001b[38;5;21;01mpd\u001b[39;00m\n\u001b[0;32m      2\u001b[0m \u001b[38;5;28;01mimport\u001b[39;00m \u001b[38;5;21;01mnumpy\u001b[39;00m \u001b[38;5;28;01mas\u001b[39;00m \u001b[38;5;21;01mnp\u001b[39;00m\n\u001b[1;32m----> 3\u001b[0m \u001b[38;5;28;01mimport\u001b[39;00m \u001b[38;5;21;01mmatplotlib\u001b[39;00m\u001b[38;5;21;01m.\u001b[39;00m\u001b[38;5;21;01mpytplot\u001b[39;00m \u001b[38;5;28;01mas\u001b[39;00m \u001b[38;5;21;01mplt\u001b[39;00m\n",
      "\u001b[1;31mModuleNotFoundError\u001b[0m: No module named 'matplotlib.pytplot'"
     ]
    }
   ],
   "source": [
    "import pandas as pd\n",
    "import numpy as np\n",
    "import matplotlib.pytplot as plt"
   ]
  },
  {
   "cell_type": "code",
   "execution_count": null,
   "id": "b65817ef",
   "metadata": {},
   "outputs": [],
   "source": []
  }
 ],
 "metadata": {
  "kernelspec": {
   "display_name": "Python 3 (ipykernel)",
   "language": "python",
   "name": "python3"
  },
  "language_info": {
   "codemirror_mode": {
    "name": "ipython",
    "version": 3
   },
   "file_extension": ".py",
   "mimetype": "text/x-python",
   "name": "python",
   "nbconvert_exporter": "python",
   "pygments_lexer": "ipython3",
   "version": "3.10.9"
  }
 },
 "nbformat": 4,
 "nbformat_minor": 5
}
