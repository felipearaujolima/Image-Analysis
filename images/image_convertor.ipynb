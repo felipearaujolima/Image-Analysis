{
 "cells": [
  {
   "cell_type": "code",
   "execution_count": 24,
   "id": "91947af4",
   "metadata": {},
   "outputs": [],
   "source": [
    "from PIL import Image\n",
    "image_in = 'bird2'\n",
    "# Abre a imagem\n",
    "img = Image.open(f'{image_in}.png')\n",
    "img = img.convert('L')\n",
    "# Converte a imagem para o formato PPM\n",
    "img.save(f'c:\\\\Users\\\\felip\\\\Documents\\\\Projetos\\\\Code\\\\Repos\\\\Image-Analysis-Course\\\\src\\\\c_functions\\\\c_functions\\\\image_test.ppm')\n",
    "\n",
    "img.close()\n"
   ]
  },
  {
   "cell_type": "code",
   "execution_count": 26,
   "id": "ddda7cf2",
   "metadata": {},
   "outputs": [],
   "source": [
    "from PIL import Image\n",
    "image_out = 'out'\n",
    "# Abre a imagem\n",
    "img = Image.open(f'c:\\\\Users\\\\felip\\\\Documents\\\\Projetos\\\\Code\\\\Repos\\\\Image-Analysis-Course\\\\src\\\\c_functions\\\\c_functions\\\\out.ppm')\n",
    "\n",
    "# Converte a imagem para o formato PPM\n",
    "img.save(f'{image_out}.png')\n",
    "\n",
    "img.close()\n"
   ]
  },
  {
   "cell_type": "code",
   "execution_count": null,
   "id": "52df5a81",
   "metadata": {},
   "outputs": [],
   "source": []
  },
  {
   "cell_type": "code",
   "execution_count": null,
   "id": "8b0fdbf1",
   "metadata": {},
   "outputs": [],
   "source": []
  }
 ],
 "metadata": {
  "kernelspec": {
   "display_name": "Python 3 (ipykernel)",
   "language": "python",
   "name": "python3"
  },
  "language_info": {
   "codemirror_mode": {
    "name": "ipython",
    "version": 3
   },
   "file_extension": ".py",
   "mimetype": "text/x-python",
   "name": "python",
   "nbconvert_exporter": "python",
   "pygments_lexer": "ipython3",
   "version": "3.10.4"
  }
 },
 "nbformat": 4,
 "nbformat_minor": 5
}
